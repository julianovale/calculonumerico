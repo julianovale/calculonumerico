{
  "nbformat": 4,
  "nbformat_minor": 0,
  "metadata": {
    "colab": {
      "name": "CNPT_02_10.ipynb",
      "provenance": [],
      "collapsed_sections": [],
      "authorship_tag": "ABX9TyO6fbj7i2VOOhwpglWxP8iH",
      "include_colab_link": true
    },
    "kernelspec": {
      "name": "python3",
      "display_name": "Python 3"
    }
  },
  "cells": [
    {
      "cell_type": "markdown",
      "metadata": {
        "id": "view-in-github",
        "colab_type": "text"
      },
      "source": [
        "<a href=\"https://colab.research.google.com/github/julianovale/calculonumerico/blob/main/CNPT_02_10.ipynb\" target=\"_parent\"><img src=\"https://colab.research.google.com/assets/colab-badge.svg\" alt=\"Open In Colab\"/></a>"
      ]
    },
    {
      "cell_type": "markdown",
      "metadata": {
        "id": "E_iNiISENpfV"
      },
      "source": [
        "Slides:\r\n",
        "\r\n",
        "https://drive.google.com/file/d/1TCwR2IqPx1EdtVFn82I3DY6jlEK3qR7c/view\r\n",
        "\r\n",
        "\r\n",
        "Vídeo:\r\n",
        "\r\n",
        "https://www.youtube.com/watch?v=f6zHUFbVlyU&list=PLH9knZH6lcgrCjPt7ouHphjuYvuzBfa3U&index=29"
      ]
    },
    {
      "cell_type": "markdown",
      "metadata": {
        "id": "6-IhSGbij3RQ"
      },
      "source": [
        "Equação: f(x) = xlog10(x)-1"
      ]
    },
    {
      "cell_type": "code",
      "metadata": {
        "id": "VtRZ890ZhMvY"
      },
      "source": [
        "import matplotlib.pyplot as plt\r\n",
        "import numpy as np"
      ],
      "execution_count": 25,
      "outputs": []
    },
    {
      "cell_type": "code",
      "metadata": {
        "id": "q2CsnU2GkJjD"
      },
      "source": [
        "def f(x):\r\n",
        "  return np.log10(x)*x-1 "
      ],
      "execution_count": 26,
      "outputs": []
    },
    {
      "cell_type": "code",
      "metadata": {
        "colab": {
          "base_uri": "https://localhost:8080/",
          "height": 264
        },
        "id": "4TxVcrKUkgDP",
        "outputId": "172ca172-e45d-47da-a42e-4392b1172897"
      },
      "source": [
        "# intervalo:\r\n",
        "b = 3.0 \r\n",
        "a = 1.0\r\n",
        "\r\n",
        "# precisão\r\n",
        "eps = 0.1 \r\n",
        "\r\n",
        "x = np.arange(a,b,0.05)\r\n",
        "\r\n",
        "plt.figure()\r\n",
        "plt.plot(x, f(x), 'b')\r\n",
        "plt.grid()\r\n",
        "plt.show()"
      ],
      "execution_count": 27,
      "outputs": [
        {
          "output_type": "display_data",
          "data": {
            "image/png": "[encoded data removed]",
            "text/plain": [
              "<Figure size 432x288 with 1 Axes>"
            ]
          },
          "metadata": {
            "tags": [],
            "needs_background": "light"
          }
        }
      ]
    },
    {
      "cell_type": "code",
      "metadata": {
        "colab": {
          "base_uri": "https://localhost:8080/",
          "height": 282
        },
        "id": "vf4zs6S2nO4Y",
        "outputId": "80ca84a9-3afe-4751-a5e2-a7c132f95a14"
      },
      "source": [
        "if (b-a) > eps:\r\n",
        "  x0 = (b+a)/2\r\n",
        "  # Novo intervalo: [a,x0]\r\n",
        "  if (f(x0)*f(b)) > 0:\r\n",
        "    b = x0\r\n",
        "  # Novo intervalo: [x0,b]\r\n",
        "  else:\r\n",
        "    a = x0\r\n",
        "\r\n",
        "print('[', a, ',', b,']')\r\n",
        "\r\n",
        "plt.plot(x, f(x), 'b')\r\n",
        "plt.plot(x0, f(x0), 'ro')\r\n",
        "plt.text(x0,0.5*f(x0),'$x_0$', fontsize=12 )\r\n",
        "plt.grid()\r\n",
        "plt.show()"
      ],
      "execution_count": 28,
      "outputs": [
        {
          "output_type": "stream",
          "text": [
            "[ 2.0 , 3.0 ]\n"
          ],
          "name": "stdout"
        },
        {
          "output_type": "display_data",
          "data": {
            "image/png": "[encoded data removed]",
            "text/plain": [
              "<Figure size 432x288 with 1 Axes>"
            ]
          },
          "metadata": {
            "tags": [],
            "needs_background": "light"
          }
        }
      ]
    }
  ]
}