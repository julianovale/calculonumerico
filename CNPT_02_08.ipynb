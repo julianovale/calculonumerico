{
  "nbformat": 4,
  "nbformat_minor": 0,
  "metadata": {
    "colab": {
      "name": "CNPT_02_08.ipynb",
      "provenance": [],
      "collapsed_sections": [],
      "authorship_tag": "ABX9TyOui/wBeEnGWLtrxuKElT8u",
      "include_colab_link": true
    },
    "kernelspec": {
      "name": "python3",
      "display_name": "Python 3"
    }
  },
  "cells": [
    {
      "cell_type": "markdown",
      "metadata": {
        "id": "view-in-github",
        "colab_type": "text"
      },
      "source": [
        "<a href=\"https://colab.research.google.com/github/julianovale/calculonumerico/blob/main/CNPT_02_08.ipynb\" target=\"_parent\"><img src=\"https://colab.research.google.com/assets/colab-badge.svg\" alt=\"Open In Colab\"/></a>"
      ]
    },
    {
      "cell_type": "markdown",
      "metadata": {
        "id": "E_iNiISENpfV"
      },
      "source": [
        "Slides:\r\n",
        "\r\n",
        "https://drive.google.com/file/d/1TCwR2IqPx1EdtVFn82I3DY6jlEK3qR7c/view\r\n",
        "\r\n",
        "\r\n",
        "Vídeo:\r\n",
        "\r\n",
        "https://www.youtube.com/watch?v=DSQ5HK8ToQY&list=PLH9knZH6lcgrCjPt7ouHphjuYvuzBfa3U&index=27"
      ]
    }
  ]
}