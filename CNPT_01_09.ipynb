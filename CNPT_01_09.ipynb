{
  "nbformat": 4,
  "nbformat_minor": 0,
  "metadata": {
    "colab": {
      "name": "CNPT_01_09.ipynb",
      "provenance": [],
      "authorship_tag": "ABX9TyPX//Cd8185Z4vlCUVy5Dcz",
      "include_colab_link": true
    },
    "kernelspec": {
      "name": "python3",
      "display_name": "Python 3"
    }
  },
  "cells": [
    {
      "cell_type": "markdown",
      "metadata": {
        "id": "view-in-github",
        "colab_type": "text"
      },
      "source": [
        "<a href=\"https://colab.research.google.com/github/julianovale/calculonumerico/blob/main/CNPT_01_09.ipynb\" target=\"_parent\"><img src=\"https://colab.research.google.com/assets/colab-badge.svg\" alt=\"Open In Colab\"/></a>"
      ]
    },
    {
      "cell_type": "markdown",
      "metadata": {
        "id": "E_iNiISENpfV"
      },
      "source": [
        "Slides:\r\n",
        "\r\n",
        "https://drive.google.com/file/d/1srTuewWllvAmJuiek7ygtkf4pK50JO72/view\r\n",
        "\r\n",
        "\r\n",
        "Vídeo:\r\n",
        "\r\n",
        "https://www.youtube.com/watch?v=UTVwHhQMIxk&list=PLH9knZH6lcgrCjPt7ouHphjuYvuzBfa3U&index=11&t=1s"
      ]
    },
    {
      "cell_type": "code",
      "metadata": {
        "colab": {
          "base_uri": "https://localhost:8080/"
        },
        "id": "YXkn0-SdNXZB",
        "outputId": "ea3e9826-0bc4-4a72-e82e-9ddb45594da5"
      },
      "source": [
        "n = input('Digite um numero entre 0 e 1: ')\r\n",
        "\r\n",
        "d = [0]\r\n",
        "r = 2*float(n)\r\n",
        "\r\n",
        "iter = 0\r\n",
        "while (r > 0.0)&(iter <= 5): # no máximo 5 casas após a vírgula\r\n",
        "\r\n",
        "  if (r >= 1):\r\n",
        "    dk = 1\r\n",
        "  else:\r\n",
        "    dk = 0\r\n",
        "  print(dk)\r\n",
        "  d.append(dk)\r\n",
        "  r = r - dk\r\n",
        "\r\n",
        "  if (r >= 0):\r\n",
        "    r = 2*r\r\n",
        "\r\n",
        "  iter = iter + 1\r\n",
        "\r\n",
        "print(\"(\"+n+\")_10 = \"+str(d)+\")_2\")\r\n"
      ],
      "execution_count": 5,
      "outputs": [
        {
          "output_type": "stream",
          "text": [
            "Digite um numero entre 0 e 1: 0.125\n",
            "0\n",
            "0\n",
            "1\n",
            "(0.125)_10 = [0, 0, 0, 1])_2\n"
          ],
          "name": "stdout"
        }
      ]
    },
    {
      "cell_type": "code",
      "metadata": {
        "id": "lfGu_AELSIkV"
      },
      "source": [
        ""
      ],
      "execution_count": null,
      "outputs": []
    }
  ]
}