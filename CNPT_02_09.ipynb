{
  "nbformat": 4,
  "nbformat_minor": 0,
  "metadata": {
    "colab": {
      "name": "CNPT_02_09.ipynb",
      "provenance": [],
      "collapsed_sections": [],
      "authorship_tag": "ABX9TyNEXUix8zhrHEr+ZkQsBr9p",
      "include_colab_link": true
    },
    "kernelspec": {
      "name": "python3",
      "display_name": "Python 3"
    }
  },
  "cells": [
    {
      "cell_type": "markdown",
      "metadata": {
        "id": "view-in-github",
        "colab_type": "text"
      },
      "source": [
        "<a href=\"https://colab.research.google.com/github/julianovale/calculonumerico/blob/main/CNPT_02_09.ipynb\" target=\"_parent\"><img src=\"https://colab.research.google.com/assets/colab-badge.svg\" alt=\"Open In Colab\"/></a>"
      ]
    },
    {
      "cell_type": "markdown",
      "metadata": {
        "id": "E_iNiISENpfV"
      },
      "source": [
        "Slides:\r\n",
        "\r\n",
        "https://drive.google.com/file/d/1TCwR2IqPx1EdtVFn82I3DY6jlEK3qR7c/view\r\n",
        "\r\n",
        "\r\n",
        "Vídeo:\r\n",
        "\r\n",
        "https://www.youtube.com/watch?v=Bn2Zsrz7re0&list=PLH9knZH6lcgrCjPt7ouHphjuYvuzBfa3U&index=28"
      ]
    },
    {
      "cell_type": "markdown",
      "metadata": {
        "id": "6-IhSGbij3RQ"
      },
      "source": [
        "Equação: f(x) = xlog10(x)-1"
      ]
    },
    {
      "cell_type": "code",
      "metadata": {
        "id": "VtRZ890ZhMvY"
      },
      "source": [
        "import matplotlib.pyplot as plt\r\n",
        "import numpy as np"
      ],
      "execution_count": 2,
      "outputs": []
    },
    {
      "cell_type": "code",
      "metadata": {
        "id": "q2CsnU2GkJjD"
      },
      "source": [
        "def f(x):\r\n",
        "  return np.log10(x)*x-1 "
      ],
      "execution_count": 3,
      "outputs": []
    },
    {
      "cell_type": "code",
      "metadata": {
        "colab": {
          "base_uri": "https://localhost:8080/",
          "height": 267
        },
        "id": "4TxVcrKUkgDP",
        "outputId": "005804c2-f4d2-437c-d889-000acec37eb7"
      },
      "source": [
        "x = np.arange(1,3,0.1)\r\n",
        "\r\n",
        "plt.figure()\r\n",
        "plt.plot(x, f(x), 'm--')\r\n",
        "plt.plot(x, f(x), 'bo')\r\n",
        "plt.grid()\r\n",
        "plt.show()"
      ],
      "execution_count": 6,
      "outputs": [
        {
          "output_type": "display_data",
          "data": {
            "image/png": "[encoded data removed]",
            "text/plain": [
              "<Figure size 432x288 with 1 Axes>"
            ]
          },
          "metadata": {
            "tags": [],
            "needs_background": "light"
          }
        }
      ]
    }
  ]
}