{
  "nbformat": 4,
  "nbformat_minor": 0,
  "metadata": {
    "colab": {
      "name": "CNPT_01_08.ipynb",
      "provenance": [],
      "collapsed_sections": [],
      "authorship_tag": "ABX9TyMTaIGDw3nt4pA+44uS/UQb",
      "include_colab_link": true
    },
    "kernelspec": {
      "name": "python3",
      "display_name": "Python 3"
    }
  },
  "cells": [
    {
      "cell_type": "markdown",
      "metadata": {
        "id": "view-in-github",
        "colab_type": "text"
      },
      "source": [
        "<a href=\"https://colab.research.google.com/github/julianovale/calculonumerico/blob/main/CNPT_01_08.ipynb\" target=\"_parent\"><img src=\"https://colab.research.google.com/assets/colab-badge.svg\" alt=\"Open In Colab\"/></a>"
      ]
    },
    {
      "cell_type": "markdown",
      "metadata": {
        "id": "IXzNcZceT-h_"
      },
      "source": [
        "Slides:\r\n",
        "\r\n",
        "https://drive.google.com/file/d/1srTuewWllvAmJuiek7ygtkf4pK50JO72/view\r\n",
        "\r\n",
        "\r\n",
        "Vídeo:\r\n",
        "\r\n",
        "https://www.youtube.com/watch?v=hw3n3aTBNgY&list=PLH9knZH6lcgrCjPt7ouHphjuYvuzBfa3U&index=10"
      ]
    },
    {
      "cell_type": "code",
      "metadata": {
        "colab": {
          "base_uri": "https://localhost:8080/"
        },
        "id": "_84HqVBBpcsw",
        "outputId": "dd9926a5-a22a-458d-83a7-bde0c7826d80"
      },
      "source": [
        "# conversão de base 10 para base 2:\r\n",
        "\r\n",
        "val = input('digite um numero inteiro: ')\r\n",
        "print('O valor digitado é: ('+val+')_10')\r\n",
        "val = int(val)\r\n",
        "num = []\r\n",
        "while (val >= 1):\r\n",
        "  num.append(val % 2)\r\n",
        "  val = val//2 # ou val = int(val/2)\r\n",
        "\r\n",
        "num = num[::-1]\r\n",
        "print('Na base 2 é: ('+str(num)+')_2' )\r\n"
      ],
      "execution_count": 26,
      "outputs": [
        {
          "output_type": "stream",
          "text": [
            "digite um numero inteiro: 347\n",
            "O valor digitado é: (347)_10\n",
            "Na base 2 é: ([1, 0, 1, 0, 1, 1, 0, 1, 1])_2\n"
          ],
          "name": "stdout"
        }
      ]
    }
  ]
}