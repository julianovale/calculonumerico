{
  "nbformat": 4,
  "nbformat_minor": 0,
  "metadata": {
    "colab": {
      "name": "CNPT_02_06.ipynb",
      "provenance": [],
      "collapsed_sections": [],
      "authorship_tag": "ABX9TyNzNuGr00casBNWzx+CUP4W",
      "include_colab_link": true
    },
    "kernelspec": {
      "name": "python3",
      "display_name": "Python 3"
    }
  },
  "cells": [
    {
      "cell_type": "markdown",
      "metadata": {
        "id": "view-in-github",
        "colab_type": "text"
      },
      "source": [
        "<a href=\"https://colab.research.google.com/github/julianovale/calculonumerico/blob/main/CNPT_02_06.ipynb\" target=\"_parent\"><img src=\"https://colab.research.google.com/assets/colab-badge.svg\" alt=\"Open In Colab\"/></a>"
      ]
    },
    {
      "cell_type": "markdown",
      "metadata": {
        "id": "E_iNiISENpfV"
      },
      "source": [
        "Slides:\r\n",
        "\r\n",
        "https://drive.google.com/file/d/1TCwR2IqPx1EdtVFn82I3DY6jlEK3qR7c/view\r\n",
        "\r\n",
        "\r\n",
        "Vídeo:\r\n",
        "\r\n",
        "https://www.youtube.com/watch?v=m7wyYFSPlng&list=PLH9knZH6lcgrCjPt7ouHphjuYvuzBfa3U&index=25"
      ]
    },
    {
      "cell_type": "code",
      "metadata": {
        "id": "mJZ6hVKTa7ZN"
      },
      "source": [
        "import matplotlib.pyplot as plt\r\n",
        "import numpy as np"
      ],
      "execution_count": 1,
      "outputs": []
    },
    {
      "cell_type": "code",
      "metadata": {
        "id": "6bh5fdolbrRk"
      },
      "source": [
        "def f(x):\r\n",
        "  return np.power(x,3)-9*x+3\r\n",
        "\r\n",
        "def g(x):\r\n",
        "  return np.power(x,3)\r\n",
        "\r\n",
        "def h(x):\r\n",
        "  return 9*x-3"
      ],
      "execution_count": 4,
      "outputs": []
    },
    {
      "cell_type": "code",
      "metadata": {
        "id": "o_MBSZs0cHGN"
      },
      "source": [
        "x1 = np.arange(-4,4,0.1)"
      ],
      "execution_count": 5,
      "outputs": []
    },
    {
      "cell_type": "code",
      "metadata": {
        "colab": {
          "base_uri": "https://localhost:8080/",
          "height": 264
        },
        "id": "ZhAScwH-dTFc",
        "outputId": "f9a3a729-cf8b-4732-df3a-feef2be30796"
      },
      "source": [
        "plt.figure()\r\n",
        "plt.subplot(211)\r\n",
        "plt.plot(x1,f(x1),'m')\r\n",
        "plt.grid()\r\n",
        "plt.subplot(212)\r\n",
        "plt.plot(x1, g(x1))\r\n",
        "plt.plot(x1, h(x1),'r--')\r\n",
        "plt.grid()\r\n",
        "plt.show()"
      ],
      "execution_count": 16,
      "outputs": [
        {
          "output_type": "display_data",
          "data": {
            "image/png": "[encoded data removed]",
            "text/plain": [
              "<Figure size 432x288 with 2 Axes>"
            ]
          },
          "metadata": {
            "tags": [],
            "needs_background": "light"
          }
        }
      ]
    }
  ]
}