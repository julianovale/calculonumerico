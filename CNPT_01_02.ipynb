{
  "nbformat": 4,
  "nbformat_minor": 0,
  "metadata": {
    "colab": {
      "name": "CNPT_01_02.ipynb",
      "provenance": [],
      "authorship_tag": "ABX9TyOZfs1XfpuvWAxQOjZM4Uml",
      "include_colab_link": true
    },
    "kernelspec": {
      "name": "python3",
      "display_name": "Python 3"
    }
  },
  "cells": [
    {
      "cell_type": "markdown",
      "metadata": {
        "id": "view-in-github",
        "colab_type": "text"
      },
      "source": [
        "<a href=\"https://colab.research.google.com/github/julianovale/calculonumerico/blob/main/CNPT_01_02.ipynb\" target=\"_parent\"><img src=\"https://colab.research.google.com/assets/colab-badge.svg\" alt=\"Open In Colab\"/></a>"
      ]
    },
    {
      "cell_type": "markdown",
      "metadata": {
        "id": "IXzNcZceT-h_"
      },
      "source": [
        "Slides:\r\n",
        "\r\n",
        "https://drive.google.com/file/d/1srTuewWllvAmJuiek7ygtkf4pK50JO72/view\r\n"
      ]
    },
    {
      "cell_type": "code",
      "metadata": {
        "colab": {
          "base_uri": "https://localhost:8080/"
        },
        "id": "n4p3CMqqTpZE",
        "outputId": "99bbfc47-e11a-4dd0-f883-ebdafe5d583f"
      },
      "source": [
        "# limite de representação de valores reais:\r\n",
        "\r\n",
        "# 1,7 x 10^(308)\r\n",
        "# 1,82 x 10^(308)\r\n",
        "\r\n",
        "print(1.7e308)\r\n",
        "\r\n",
        "print(1.82e308) # impossível representar em python (vira \"infinito\")"
      ],
      "execution_count": 3,
      "outputs": [
        {
          "output_type": "stream",
          "text": [
            "1.7e+308\n",
            "inf\n"
          ],
          "name": "stdout"
        }
      ]
    }
  ]
}