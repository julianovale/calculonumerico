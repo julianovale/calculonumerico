{
  "nbformat": 4,
  "nbformat_minor": 0,
  "metadata": {
    "colab": {
      "name": "CNPT_02_11.ipynb",
      "provenance": [],
      "collapsed_sections": [],
      "authorship_tag": "ABX9TyPBntj+5XlJzajXJXHRlyrs",
      "include_colab_link": true
    },
    "kernelspec": {
      "name": "python3",
      "display_name": "Python 3"
    }
  },
  "cells": [
    {
      "cell_type": "markdown",
      "metadata": {
        "id": "view-in-github",
        "colab_type": "text"
      },
      "source": [
        "<a href=\"https://colab.research.google.com/github/julianovale/calculonumerico/blob/main/CNPT_02_11.ipynb\" target=\"_parent\"><img src=\"https://colab.research.google.com/assets/colab-badge.svg\" alt=\"Open In Colab\"/></a>"
      ]
    },
    {
      "cell_type": "markdown",
      "metadata": {
        "id": "E_iNiISENpfV"
      },
      "source": [
        "Slides:\r\n",
        "\r\n",
        "https://drive.google.com/file/d/1TCwR2IqPx1EdtVFn82I3DY6jlEK3qR7c/view\r\n",
        "\r\n",
        "\r\n",
        "Vídeo:\r\n",
        "\r\n",
        "https://www.youtube.com/watch?v=iLhI06YmmfU&list=PLH9knZH6lcgrCjPt7ouHphjuYvuzBfa3U&index=31&t=1s"
      ]
    },
    {
      "cell_type": "markdown",
      "metadata": {
        "id": "6-IhSGbij3RQ"
      },
      "source": [
        "Equação: f(x) = xlog10(x)-1"
      ]
    },
    {
      "cell_type": "code",
      "metadata": {
        "id": "VtRZ890ZhMvY"
      },
      "source": [
        "import matplotlib.pyplot as plt\r\n",
        "import numpy as np"
      ],
      "execution_count": 31,
      "outputs": []
    },
    {
      "cell_type": "code",
      "metadata": {
        "id": "q2CsnU2GkJjD"
      },
      "source": [
        "def f(x):\r\n",
        "  return np.log10(x)*x-1 "
      ],
      "execution_count": 32,
      "outputs": []
    },
    {
      "cell_type": "code",
      "metadata": {
        "colab": {
          "base_uri": "https://localhost:8080/",
          "height": 477
        },
        "id": "vf4zs6S2nO4Y",
        "outputId": "b1eb9f5a-84bf-4fd9-cb45-e24cc7dd68b9"
      },
      "source": [
        "# intervalo:\r\n",
        "b = 3.0 \r\n",
        "a = 1.0\r\n",
        "\r\n",
        "# precisão\r\n",
        "eps = 0.001 \r\n",
        "\r\n",
        "x = np.arange(a,b,0.05)\r\n",
        "\r\n",
        "iter = 0\r\n",
        "xk = []\r\n",
        "\r\n",
        "while (b-a > eps) & (iter <= 20):\r\n",
        "  print('[', a, ',', b,']')\r\n",
        "  x0 = (b+a)/2\r\n",
        "  xk.append(x0)\r\n",
        "  # Novo intervalo: [a,x0]\r\n",
        "  if (f(x0)*f(b)) > 0:\r\n",
        "    b = x0\r\n",
        "  # Novo intervalo: [x0,b]\r\n",
        "  else:\r\n",
        "    a = x0\r\n",
        "  iter = iter + 1\r\n",
        "\r\n",
        "\r\n",
        "plt.figure()\r\n",
        "plt.grid()\r\n",
        "plt.plot(x,f(x),'b-')\r\n",
        "\r\n",
        "\r\n",
        "cont = 0\r\n",
        "for x in xk:\r\n",
        "  plt.plot(x, f(x), 'ro')\r\n",
        "  name = '$x_' + str(cont) + '$'\r\n",
        "  plt.text(x,0.1*f(x),name, fontsize=12)\r\n",
        "  cont = cont + 1\r\n",
        "\r\n",
        "print('[',a,',',b,']')\r\n",
        "plt.show()"
      ],
      "execution_count": 43,
      "outputs": [
        {
          "output_type": "stream",
          "text": [
            "[ 1.0 , 3.0 ]\n",
            "[ 2.0 , 3.0 ]\n",
            "[ 2.5 , 3.0 ]\n",
            "[ 2.5 , 2.75 ]\n",
            "[ 2.5 , 2.625 ]\n",
            "[ 2.5 , 2.5625 ]\n",
            "[ 2.5 , 2.53125 ]\n",
            "[ 2.5 , 2.515625 ]\n",
            "[ 2.5 , 2.5078125 ]\n",
            "[ 2.50390625 , 2.5078125 ]\n",
            "[ 2.505859375 , 2.5078125 ]\n",
            "[ 2.505859375 , 2.5068359375 ]\n"
          ],
          "name": "stdout"
        },
        {
          "output_type": "display_data",
          "data": {
            "image/png": "[encoded data removed]",
            "text/plain": [
              "<Figure size 432x288 with 1 Axes>"
            ]
          },
          "metadata": {
            "tags": [],
            "needs_background": "light"
          }
        }
      ]
    },
    {
      "cell_type": "code",
      "metadata": {
        "colab": {
          "base_uri": "https://localhost:8080/"
        },
        "id": "bzDEn5Wo0KLW",
        "outputId": "256af52e-6111-47de-fb5f-abe59edf49a5"
      },
      "source": [
        "f(a)"
      ],
      "execution_count": 45,
      "outputs": [
        {
          "output_type": "execute_result",
          "data": {
            "text/plain": [
              "-0.0002706246151515934"
            ]
          },
          "metadata": {
            "tags": []
          },
          "execution_count": 45
        }
      ]
    },
    {
      "cell_type": "code",
      "metadata": {
        "colab": {
          "base_uri": "https://localhost:8080/"
        },
        "id": "0WV1GnPn0Ne1",
        "outputId": "668234b0-a796-4979-b139-de0a3e1738af"
      },
      "source": [
        "f(b)"
      ],
      "execution_count": 46,
      "outputs": [
        {
          "output_type": "execute_result",
          "data": {
            "text/plain": [
              "0.0005431798683572797"
            ]
          },
          "metadata": {
            "tags": []
          },
          "execution_count": 46
        }
      ]
    },
    {
      "cell_type": "code",
      "metadata": {
        "colab": {
          "base_uri": "https://localhost:8080/"
        },
        "id": "tQdT-A0k0VQV",
        "outputId": "dd945caf-087c-4f01-9d6d-5880bafa8db0"
      },
      "source": [
        "med = (a+b)/2\r\n",
        "med"
      ],
      "execution_count": 47,
      "outputs": [
        {
          "output_type": "execute_result",
          "data": {
            "text/plain": [
              "2.50634765625"
            ]
          },
          "metadata": {
            "tags": []
          },
          "execution_count": 47
        }
      ]
    },
    {
      "cell_type": "code",
      "metadata": {
        "colab": {
          "base_uri": "https://localhost:8080/"
        },
        "id": "LhfDGrll0d7n",
        "outputId": "8d87f429-6cb9-4baa-e466-69ddf4afdfdf"
      },
      "source": [
        "f(med)"
      ],
      "execution_count": 48,
      "outputs": [
        {
          "output_type": "execute_result",
          "data": {
            "text/plain": [
              "0.00013625697027586092"
            ]
          },
          "metadata": {
            "tags": []
          },
          "execution_count": 48
        }
      ]
    }
  ]
}