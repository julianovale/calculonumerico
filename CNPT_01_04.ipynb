{
  "nbformat": 4,
  "nbformat_minor": 0,
  "metadata": {
    "colab": {
      "name": "CNPT_01_04.ipynb",
      "provenance": [],
      "collapsed_sections": [],
      "authorship_tag": "ABX9TyPX6cDVB5+Mp3nwBRL1rDY7",
      "include_colab_link": true
    },
    "kernelspec": {
      "name": "python3",
      "display_name": "Python 3"
    }
  },
  "cells": [
    {
      "cell_type": "markdown",
      "metadata": {
        "id": "view-in-github",
        "colab_type": "text"
      },
      "source": [
        "<a href=\"https://colab.research.google.com/github/julianovale/calculonumerico/blob/main/CNPT_01_04.ipynb\" target=\"_parent\"><img src=\"https://colab.research.google.com/assets/colab-badge.svg\" alt=\"Open In Colab\"/></a>"
      ]
    },
    {
      "cell_type": "markdown",
      "metadata": {
        "id": "IXzNcZceT-h_"
      },
      "source": [
        "Slides:\r\n",
        "\r\n",
        "https://drive.google.com/file/d/1srTuewWllvAmJuiek7ygtkf4pK50JO72/view\r\n",
        "\r\n",
        "\r\n",
        "Vídeo:\r\n",
        "\r\n",
        "https://www.youtube.com/watch?v=TONxeNR7_eM&list=PLH9knZH6lcgrCjPt7ouHphjuYvuzBfa3U&index=5"
      ]
    },
    {
      "cell_type": "code",
      "metadata": {
        "colab": {
          "base_uri": "https://localhost:8080/"
        },
        "id": "AvA6FHjhYwvw",
        "outputId": "fcf90423-7799-4c78-f03f-c40e5bac4174"
      },
      "source": [
        "num = input('Digite número inteiro: ')\r\n",
        "num = int(num)\r\n",
        "bits = num.bit_length()\r\n",
        "print('número de bits: ', bits)\r\n",
        "r = bin(num)\r\n",
        "print('valor binário = ',r) # representação binária após o 'b'"
      ],
      "execution_count": 24,
      "outputs": [
        {
          "output_type": "stream",
          "text": [
            "Digite número inteiro: 20\n",
            "número de bits:  5\n",
            "valor binário =  0b10100\n"
          ],
          "name": "stdout"
        }
      ]
    },
    {
      "cell_type": "code",
      "metadata": {
        "colab": {
          "base_uri": "https://localhost:8080/",
          "height": 35
        },
        "id": "lDJY0-yXbLxL",
        "outputId": "9b0d3090-4fe3-4b8e-b7c9-9e77ac90c9c1"
      },
      "source": [
        "v = bin(122252525)\r\n",
        "v"
      ],
      "execution_count": 26,
      "outputs": [
        {
          "output_type": "execute_result",
          "data": {
            "application/vnd.google.colaboratory.intrinsic+json": {
              "type": "string"
            },
            "text/plain": [
              "'0b111010010010110110011101101'"
            ]
          },
          "metadata": {
            "tags": []
          },
          "execution_count": 26
        }
      ]
    }
  ]
}