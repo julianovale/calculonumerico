{
  "nbformat": 4,
  "nbformat_minor": 0,
  "metadata": {
    "colab": {
      "name": "CNPT_01_07.ipynb",
      "provenance": [],
      "collapsed_sections": [],
      "authorship_tag": "ABX9TyMS6K29dGP9I/cTvInvnyiX",
      "include_colab_link": true
    },
    "kernelspec": {
      "name": "python3",
      "display_name": "Python 3"
    }
  },
  "cells": [
    {
      "cell_type": "markdown",
      "metadata": {
        "id": "view-in-github",
        "colab_type": "text"
      },
      "source": [
        "<a href=\"https://colab.research.google.com/github/julianovale/calculonumerico/blob/main/CNPT_01_07.ipynb\" target=\"_parent\"><img src=\"https://colab.research.google.com/assets/colab-badge.svg\" alt=\"Open In Colab\"/></a>"
      ]
    },
    {
      "cell_type": "markdown",
      "metadata": {
        "id": "IXzNcZceT-h_"
      },
      "source": [
        "Slides:\r\n",
        "\r\n",
        "https://drive.google.com/file/d/1srTuewWllvAmJuiek7ygtkf4pK50JO72/view\r\n",
        "\r\n",
        "\r\n",
        "Vídeo:\r\n",
        "\r\n",
        "https://www.youtube.com/watch?v=6o4AG5eHjds&list=PLH9knZH6lcgrCjPt7ouHphjuYvuzBfa3U&index=9"
      ]
    },
    {
      "cell_type": "code",
      "metadata": {
        "colab": {
          "base_uri": "https://localhost:8080/"
        },
        "id": "_84HqVBBpcsw",
        "outputId": "15cf4a3b-462d-4cf1-d83f-29b7017f0fff"
      },
      "source": [
        "# conversão de base binária para a base 10:\r\n",
        "\r\n",
        "val = input('Digite um número binário: ')\r\n",
        "print('O valor digitado foi (' + val + ')_2')\r\n",
        "\r\n",
        "lv = len(val)\r\n",
        "\r\n",
        "num = int(val[0])\r\n",
        "for i in range(1, lv):\r\n",
        "  num = int(val[i])+2*num\r\n",
        "\r\n",
        "print('Valor (' + str(val) + \")_2 na base 10: \" + str(num))"
      ],
      "execution_count": 19,
      "outputs": [
        {
          "output_type": "stream",
          "text": [
            "Digite um número binário: 10111\n",
            "O valor digitado foi (10111)_2\n",
            "Valor (10111)_2 na base 10: 23\n"
          ],
          "name": "stdout"
        }
      ]
    }
  ]
}